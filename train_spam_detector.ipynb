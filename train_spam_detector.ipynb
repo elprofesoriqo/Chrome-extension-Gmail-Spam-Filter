{
 "cells": [
  {
   "metadata": {},
   "cell_type": "markdown",
   "source": "## Init",
   "id": "7b2385a56f2a380e"
  },
  {
   "metadata": {
    "collapsed": true
   },
   "cell_type": "code",
   "outputs": [],
   "execution_count": null,
   "source": [
    "import os\n",
    "import firebase_admin\n",
    "from firebase_admin import credentials, db\n",
    "import pandas as pd\n",
    "from sklearn.model_selection import train_test_split\n",
    "from sklearn.feature_extraction.text import TfidfVectorizer\n",
    "from sklearn.linear_model import LogisticRegression\n",
    "import pickle\n"
   ],
   "id": "initial_id"
  },
  {
   "metadata": {},
   "cell_type": "code",
   "outputs": [],
   "execution_count": null,
   "source": [
    "cred = credentials.Certificate(\"path/to/serviceAccountKey.json\")\n",
    "firebase_admin.initialize_app(cred, {\n",
    "    'databaseURL': os.getenv('FIREBASE_DATABASE_URL')\n",
    "})"
   ],
   "id": "a4d7d1d4e7105a23"
  },
  {
   "metadata": {},
   "cell_type": "markdown",
   "source": "## Get data\n",
   "id": "353fdccfee598443"
  },
  {
   "metadata": {},
   "cell_type": "code",
   "outputs": [],
   "execution_count": null,
   "source": [
    "ref = db.reference('spam_emails')\n",
    "emails_data = ref.get()"
   ],
   "id": "672ef1c6a8a71fc7"
  },
  {
   "metadata": {},
   "cell_type": "markdown",
   "source": "## Clear and setup data\n",
   "id": "1f00158412ab6271"
  },
  {
   "metadata": {},
   "cell_type": "code",
   "outputs": [],
   "execution_count": null,
   "source": [
    "emails = []\n",
    "labels = []\n",
    "\n",
    "for email_id, email_info in emails_data.items():\n",
    "    emails.append(email_info['text'])\n",
    "    labels.append(email_info['is_spam'])\n",
    "\n",
    "df = pd.DataFrame({'email': emails, 'label': labels})"
   ],
   "id": "19fc5a19d26a357e"
  },
  {
   "metadata": {},
   "cell_type": "code",
   "outputs": [],
   "execution_count": null,
   "source": [
    "vectorizer = TfidfVectorizer()\n",
    "X = vectorizer.fit_transform(df['email'])\n",
    "y = df['label']"
   ],
   "id": "721c1b7d207c2534"
  },
  {
   "metadata": {},
   "cell_type": "code",
   "outputs": [],
   "execution_count": null,
   "source": "X_train, X_test, y_train, y_test = train_test_split(X, y, test_size=0.2, random_state=42)\n",
   "id": "a0e2b6c26f077000"
  },
  {
   "metadata": {},
   "cell_type": "markdown",
   "source": "",
   "id": "d0a286be68b102a8"
  },
  {
   "metadata": {},
   "cell_type": "markdown",
   "source": "## Train\n",
   "id": "b054d563a89c152e"
  },
  {
   "metadata": {},
   "cell_type": "code",
   "outputs": [],
   "execution_count": null,
   "source": [
    "model = LogisticRegression()\n",
    "model.fit(X_train, y_train)"
   ],
   "id": "55335994b069c086"
  },
  {
   "metadata": {},
   "cell_type": "code",
   "outputs": [],
   "execution_count": null,
   "source": [
    "with open('spam_detector_model.pkl', 'wb') as model_file:\n",
    "    pickle.dump(model, model_file)\n",
    "\n",
    "with open('vectorizer.pkl', 'wb') as vectorizer_file:\n",
    "    pickle.dump(vectorizer, vectorizer_file)\n"
   ],
   "id": "e2f285e50fa4c1f8"
  },
  {
   "metadata": {},
   "cell_type": "code",
   "outputs": [],
   "execution_count": null,
   "source": "accuracy = model.score(X_test, y_test)",
   "id": "a428932f2470899"
  },
  {
   "metadata": {},
   "cell_type": "markdown",
   "source": "",
   "id": "e0422c55cac5a600"
  }
 ],
 "metadata": {
  "kernelspec": {
   "display_name": "Python 3",
   "language": "python",
   "name": "python3"
  },
  "language_info": {
   "codemirror_mode": {
    "name": "ipython",
    "version": 2
   },
   "file_extension": ".py",
   "mimetype": "text/x-python",
   "name": "python",
   "nbconvert_exporter": "python",
   "pygments_lexer": "ipython2",
   "version": "2.7.6"
  }
 },
 "nbformat": 4,
 "nbformat_minor": 5
}
